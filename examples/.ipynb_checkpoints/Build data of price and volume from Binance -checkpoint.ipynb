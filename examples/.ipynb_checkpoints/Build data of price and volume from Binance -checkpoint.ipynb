{
 "cells": [
  {
   "cell_type": "markdown",
   "metadata": {},
   "source": [
    "First, you need api key and secret from your Binance account."
   ]
  },
  {
   "cell_type": "code",
   "execution_count": 24,
   "metadata": {
    "collapsed": true
   },
   "outputs": [],
   "source": [
    "from binance.client import Client\n",
    "api_key = '7RS8At6SToQzDYTJpMT3yPOalVPkMZzeX6MnT2gmD6YzH0gjNHPLcvgmHXaHu00G'\n",
    "api_secret = 'bJIz0uS5GwdiqrvijKfpsBGaR7NJJ8MpiRPNzPmrFB9W3E6arL4BqxLkLstYBPaa'\n",
    "client = Client(api_key, api_secret, {'timeout':20})\n",
    "\n"
   ]
  },
  {
   "cell_type": "code",
   "execution_count": 25,
   "metadata": {
    "collapsed": true
   },
   "outputs": [],
   "source": [
    "from binance.websockets import BinanceSocketManager\n",
    "from binance.enums import *\n",
    "import time \n",
    "import numpy as np\n",
    "import pandas as pd\n",
    "from tqdm import tqdm\n",
    "import sys, os\n",
    "def UTC_convert(x):\n",
    "    if isinstance(x, np.ndarray):\n",
    "        return np.array([time.strftime('%Y-%m-%d %H:%M:%S', time.localtime(i)) for i in x/1000.])\n",
    "    elif isinstance(x, pd.Series):\n",
    "        return np.array([time.strftime('%Y-%m-%d %H:%M:%S', time.localtime(i)) for i in x.values/1000.])\n",
    "    elif (isinstance(x, int)) and (len(str(x)) ==13):\n",
    "        return time.strftime('%Y-%m-%d %H:%M:%S', time.localtime(x/1000.))\n",
    "    else:\n",
    "        raise Exception('error %s' %type(x))\n",
    "        \n",
    "        \n",
    "def amount_convert(amount, precision):  \n",
    "    \"\"\"\n",
    "    amount = 0.000234234\n",
    "    precision = 5\n",
    "    \"\"\"\n",
    "    amt_str = \"{:0.0{}f}\".format(amount, precision)\n",
    "    return amt_str\n",
    "\n",
    "\n",
    "def load_history_kline(history_kline):\n",
    "    label = [\"Open time\", \"Open\", \"High\", \"Low\", \"Close\", \"Volume\", \"Close time\", \"Quote asset volume\", \"Number of trades\", \"Taker buy base asset volume\", \"Taker buy quote asset volume\", \"Can be ignored\"]\n",
    "    kline_df = pd.DataFrame(history_kline, columns=label).astype(np.float)\n",
    "    kline_df['Open time'] = UTC_convert(kline_df['Open time'])\n",
    "    kline_df.index = kline_df['Open time'].values\n",
    "    kline_df['Close time'] = UTC_convert(kline_df['Close time'])\n",
    "    return kline_df\n",
    "\n",
    "def product(client, num=50, market='USDT'):\n",
    "    products = client.get_products()\n",
    "    df = pd.DataFrame(products['data'])\n",
    "    df = df[df['market'] == market]\n",
    "    df['symbol'] = df['baseAsset']+df['quoteAsset']\n",
    "    product_list = df.sort_values(\"tradedMoney\", ascending=False).symbol.values[:num]\n",
    "    return product_list\n",
    "\n",
    "\n",
    "def store_data(data, path):\n",
    "    for i in data.keys():\n",
    "        file = os.path.join(path, i+'.npy')\n",
    "        arr = pd.DataFrame(data[i]).T.values\n",
    "        if i == 'dates':\n",
    "            print(arr)\n",
    "            arr = arr[0].astype('str')\n",
    "        print(file, arr.shape)\n",
    "        np.save(file, arr)\n",
    "    t_path = os.path.join(path, 'ticker_names.npy')\n",
    "    ticker_names = pd.DataFrame(data[i]).columns.values.astype('str')\n",
    "    #print(ticker_names)\n",
    "    np.save(t_path, ticker_names)\n",
    "    print(t_path, ticker_names.shape)"
   ]
  },
  {
   "cell_type": "code",
   "execution_count": 31,
   "metadata": {
    "scrolled": true
   },
   "outputs": [
    {
     "data": {
      "text/plain": [
       "array(['BTCUSDT', 'ETHUSDT', 'XRPUSDT', 'BNBUSDT', 'TRXUSDT', 'EOSUSDT',\n",
       "       'LTCUSDT', 'BCHABCUSDT', 'USDCUSDT', 'BTTUSDT', 'ADAUSDT',\n",
       "       'XLMUSDT', 'ETCUSDT', 'TUSDUSDT', 'PAXUSDT', 'LINKUSDT',\n",
       "       'BANDUSDT', 'WINUSDT', 'ONTUSDT', 'WAVESUSDT', 'ATOMUSDT',\n",
       "       'NEOUSDT', 'FETUSDT', 'ERDUSDT', 'ALGOUSDT', 'BUSDUSDT',\n",
       "       'IOTAUSDT', 'MATICUSDT', 'XMRUSDT', 'BATUSDT', 'DASHUSDT',\n",
       "       'ZRXUSDT', 'QTUMUSDT', 'IOSTUSDT', 'BEAMUSDT', 'CELRUSDT',\n",
       "       'ZECUSDT', 'PERLUSDT', 'HOTUSDT', 'ONEUSDT', 'WANUSDT', 'MITHUSDT',\n",
       "       'ZILUSDT', 'ICXUSDT', 'FTMUSDT', 'DUSKUSDT', 'VETUSDT', 'NANOUSDT',\n",
       "       'DOGEUSDT', 'OMGUSDT', 'DOCKUSDT', 'NPXSUSDT', 'COSUSDT',\n",
       "       'CHZUSDT', 'ONGUSDT', 'ANKRUSDT', 'DENTUSDT', 'COCOSUSDT',\n",
       "       'TFUELUSDT', 'MTLUSDT', 'ENJUSDT', 'THETAUSDT', 'TOMOUSDT',\n",
       "       'NULSUSDT', 'FUNUSDT', 'USDSUSDT', 'GTOUSDT', 'CVCUSDT', 'MFTUSDT',\n",
       "       'STORMUSDT', 'KEYUSDT', 'USDSBUSDT', 'XTZUSDT'], dtype=object)"
      ]
     },
     "execution_count": 31,
     "metadata": {},
     "output_type": "execute_result"
    }
   ],
   "source": [
    "product_list = product(client, 200, 'USDT')\n",
    "product_list"
   ]
  },
  {
   "cell_type": "code",
   "execution_count": 35,
   "metadata": {},
   "outputs": [
    {
     "name": "stderr",
     "output_type": "stream",
     "text": [
      "  1%|▏         | 1/73 [00:04<05:25,  4.52s/it]"
     ]
    },
    {
     "name": "stdout",
     "output_type": "stream",
     "text": [
      "BTCUSDT 2517\n"
     ]
    },
    {
     "name": "stderr",
     "output_type": "stream",
     "text": [
      "\r",
      "  3%|▎         | 2/73 [00:07<04:42,  3.99s/it]"
     ]
    },
    {
     "name": "stdout",
     "output_type": "stream",
     "text": [
      "ETHUSDT 2517\n"
     ]
    },
    {
     "name": "stderr",
     "output_type": "stream",
     "text": [
      "\r",
      "  4%|▍         | 3/73 [00:10<04:11,  3.59s/it]"
     ]
    },
    {
     "name": "stdout",
     "output_type": "stream",
     "text": [
      "XRPUSDT 2028\n"
     ]
    },
    {
     "name": "stderr",
     "output_type": "stream",
     "text": [
      "\r",
      "  5%|▌         | 4/73 [00:13<03:49,  3.32s/it]"
     ]
    },
    {
     "name": "stdout",
     "output_type": "stream",
     "text": [
      "BNBUSDT 2517\n"
     ]
    },
    {
     "name": "stderr",
     "output_type": "stream",
     "text": [
      "\r",
      "  7%|▋         | 5/73 [00:15<03:36,  3.18s/it]"
     ]
    },
    {
     "name": "stdout",
     "output_type": "stream",
     "text": [
      "TRXUSDT 1876\n"
     ]
    },
    {
     "name": "stderr",
     "output_type": "stream",
     "text": [
      "\r",
      "  8%|▊         | 6/73 [00:18<03:23,  3.04s/it]"
     ]
    },
    {
     "name": "stdout",
     "output_type": "stream",
     "text": [
      "EOSUSDT 1933\n"
     ]
    },
    {
     "name": "stderr",
     "output_type": "stream",
     "text": [
      "\r",
      " 10%|▉         | 7/73 [00:21<03:18,  3.01s/it]"
     ]
    },
    {
     "name": "stdout",
     "output_type": "stream",
     "text": [
      "LTCUSDT 2517\n"
     ]
    },
    {
     "name": "stderr",
     "output_type": "stream",
     "text": [
      "\r",
      " 11%|█         | 8/73 [00:21<02:56,  2.71s/it]"
     ]
    },
    {
     "name": "stdout",
     "output_type": "stream",
     "text": [
      "BCHABCUSDT 1245\n"
     ]
    },
    {
     "name": "stderr",
     "output_type": "stream",
     "text": [
      "\r",
      " 12%|█▏        | 9/73 [00:22<02:38,  2.48s/it]"
     ]
    },
    {
     "name": "stdout",
     "output_type": "stream",
     "text": [
      "USDCUSDT 1130\n"
     ]
    },
    {
     "name": "stderr",
     "output_type": "stream",
     "text": [
      "\r",
      " 14%|█▎        | 10/73 [00:22<02:23,  2.28s/it]"
     ]
    },
    {
     "name": "stdout",
     "output_type": "stream",
     "text": [
      "BTTUSDT 941\n"
     ]
    },
    {
     "name": "stderr",
     "output_type": "stream",
     "text": [
      "\r",
      " 15%|█▌        | 11/73 [00:25<02:21,  2.28s/it]"
     ]
    },
    {
     "name": "stdout",
     "output_type": "stream",
     "text": [
      "ADAUSDT 2097\n"
     ]
    },
    {
     "name": "stderr",
     "output_type": "stream",
     "text": [
      "\r",
      " 16%|█▋        | 12/73 [00:27<02:17,  2.26s/it]"
     ]
    },
    {
     "name": "stdout",
     "output_type": "stream",
     "text": [
      "XLMUSDT 1920\n"
     ]
    },
    {
     "name": "stderr",
     "output_type": "stream",
     "text": [
      "\r",
      " 18%|█▊        | 13/73 [00:28<02:13,  2.22s/it]"
     ]
    },
    {
     "name": "stdout",
     "output_type": "stream",
     "text": [
      "ETCUSDT 1874\n"
     ]
    },
    {
     "name": "stderr",
     "output_type": "stream",
     "text": [
      "\r",
      " 19%|█▉        | 14/73 [00:30<02:10,  2.20s/it]"
     ]
    },
    {
     "name": "stdout",
     "output_type": "stream",
     "text": [
      "TUSDUSDT 1920\n"
     ]
    },
    {
     "name": "stderr",
     "output_type": "stream",
     "text": [
      "\r",
      " 21%|██        | 15/73 [00:31<02:01,  2.10s/it]"
     ]
    },
    {
     "name": "stdout",
     "output_type": "stream",
     "text": [
      "PAXUSDT 1417\n"
     ]
    },
    {
     "name": "stderr",
     "output_type": "stream",
     "text": [
      " 23%|██▎       | 17/73 [00:32<01:46,  1.90s/it]"
     ]
    },
    {
     "name": "stdout",
     "output_type": "stream",
     "text": [
      "LINKUSDT 1001\n",
      "BANDUSDT 21\n"
     ]
    },
    {
     "name": "stderr",
     "output_type": "stream",
     "text": [
      "\r",
      " 25%|██▍       | 18/73 [00:32<01:39,  1.80s/it]"
     ]
    },
    {
     "name": "stdout",
     "output_type": "stream",
     "text": [
      "WINUSDT 214\n"
     ]
    },
    {
     "name": "stderr",
     "output_type": "stream",
     "text": [
      "\r",
      " 26%|██▌       | 19/73 [00:34<01:37,  1.80s/it]"
     ]
    },
    {
     "name": "stdout",
     "output_type": "stream",
     "text": [
      "ONTUSDT 1889\n"
     ]
    },
    {
     "name": "stderr",
     "output_type": "stream",
     "text": [
      "\r",
      " 27%|██▋       | 20/73 [00:34<01:32,  1.74s/it]"
     ]
    },
    {
     "name": "stdout",
     "output_type": "stream",
     "text": [
      "WAVESUSDT 993\n"
     ]
    },
    {
     "name": "stderr",
     "output_type": "stream",
     "text": [
      "\r",
      " 29%|██▉       | 21/73 [00:35<01:27,  1.68s/it]"
     ]
    },
    {
     "name": "stdout",
     "output_type": "stream",
     "text": [
      "ATOMUSDT 590\n"
     ]
    },
    {
     "name": "stderr",
     "output_type": "stream",
     "text": [
      "\r",
      " 30%|███       | 22/73 [00:38<01:28,  1.74s/it]"
     ]
    },
    {
     "name": "stdout",
     "output_type": "stream",
     "text": [
      "NEOUSDT 2517\n"
     ]
    },
    {
     "name": "stderr",
     "output_type": "stream",
     "text": [
      "\r",
      " 32%|███▏      | 23/73 [00:38<01:24,  1.68s/it]"
     ]
    },
    {
     "name": "stdout",
     "output_type": "stream",
     "text": [
      "FETUSDT 829\n"
     ]
    },
    {
     "name": "stderr",
     "output_type": "stream",
     "text": [
      "\r",
      " 33%|███▎      | 24/73 [00:38<01:19,  1.62s/it]"
     ]
    },
    {
     "name": "stdout",
     "output_type": "stream",
     "text": [
      "ERDUSDT 326\n"
     ]
    },
    {
     "name": "stderr",
     "output_type": "stream",
     "text": [
      "\r",
      " 34%|███▍      | 25/73 [00:39<01:15,  1.57s/it]"
     ]
    },
    {
     "name": "stdout",
     "output_type": "stream",
     "text": [
      "ALGOUSDT 375\n"
     ]
    },
    {
     "name": "stderr",
     "output_type": "stream",
     "text": [
      "\r",
      " 36%|███▌      | 26/73 [00:39<01:11,  1.51s/it]"
     ]
    },
    {
     "name": "stdout",
     "output_type": "stream",
     "text": [
      "BUSDUSDT 14\n"
     ]
    },
    {
     "name": "stderr",
     "output_type": "stream",
     "text": [
      "\r",
      " 37%|███▋      | 27/73 [00:41<01:10,  1.53s/it]"
     ]
    },
    {
     "name": "stdout",
     "output_type": "stream",
     "text": [
      "IOTAUSDT 1920\n"
     ]
    },
    {
     "name": "stderr",
     "output_type": "stream",
     "text": [
      "\r",
      " 38%|███▊      | 28/73 [00:41<01:07,  1.49s/it]"
     ]
    },
    {
     "name": "stdout",
     "output_type": "stream",
     "text": [
      "MATICUSDT 600\n"
     ]
    },
    {
     "name": "stderr",
     "output_type": "stream",
     "text": [
      "\r",
      " 40%|███▉      | 29/73 [00:42<01:03,  1.45s/it]"
     ]
    },
    {
     "name": "stdout",
     "output_type": "stream",
     "text": [
      "XMRUSDT 770\n"
     ]
    },
    {
     "name": "stderr",
     "output_type": "stream",
     "text": [
      "\r",
      " 41%|████      | 30/73 [00:42<01:00,  1.42s/it]"
     ]
    },
    {
     "name": "stdout",
     "output_type": "stream",
     "text": [
      "BATUSDT 813\n"
     ]
    },
    {
     "name": "stderr",
     "output_type": "stream",
     "text": [
      "\r",
      " 42%|████▏     | 31/73 [00:42<00:58,  1.38s/it]"
     ]
    },
    {
     "name": "stdout",
     "output_type": "stream",
     "text": [
      "DASHUSDT 718\n"
     ]
    },
    {
     "name": "stderr",
     "output_type": "stream",
     "text": [
      "\r",
      " 44%|████▍     | 32/73 [00:43<00:55,  1.35s/it]"
     ]
    },
    {
     "name": "stdout",
     "output_type": "stream",
     "text": [
      "ZRXUSDT 830\n"
     ]
    },
    {
     "name": "stderr",
     "output_type": "stream",
     "text": [
      "\r",
      " 45%|████▌     | 33/73 [00:45<00:55,  1.38s/it]"
     ]
    },
    {
     "name": "stdout",
     "output_type": "stream",
     "text": [
      "QTUMUSDT 2212\n"
     ]
    },
    {
     "name": "stderr",
     "output_type": "stream",
     "text": [
      "\r",
      " 47%|████▋     | 34/73 [00:45<00:52,  1.35s/it]"
     ]
    },
    {
     "name": "stdout",
     "output_type": "stream",
     "text": [
      "IOSTUSDT 742\n"
     ]
    },
    {
     "name": "stderr",
     "output_type": "stream",
     "text": [
      "\r",
      " 48%|████▊     | 35/73 [00:46<00:50,  1.32s/it]"
     ]
    },
    {
     "name": "stdout",
     "output_type": "stream",
     "text": [
      "BEAMUSDT 9\n"
     ]
    },
    {
     "name": "stderr",
     "output_type": "stream",
     "text": [
      "\r",
      " 49%|████▉     | 36/73 [00:46<00:47,  1.29s/it]"
     ]
    },
    {
     "name": "stdout",
     "output_type": "stream",
     "text": [
      "CELRUSDT 730\n"
     ]
    },
    {
     "name": "stderr",
     "output_type": "stream",
     "text": [
      " 52%|█████▏    | 38/73 [00:47<00:43,  1.24s/it]"
     ]
    },
    {
     "name": "stdout",
     "output_type": "stream",
     "text": [
      "ZECUSDT 746\n",
      "PERLUSDT 113\n"
     ]
    },
    {
     "name": "stderr",
     "output_type": "stream",
     "text": [
      "\r",
      " 53%|█████▎    | 39/73 [00:47<00:41,  1.22s/it]"
     ]
    },
    {
     "name": "stdout",
     "output_type": "stream",
     "text": [
      "HOTUSDT 869\n"
     ]
    },
    {
     "name": "stderr",
     "output_type": "stream",
     "text": [
      " 56%|█████▌    | 41/73 [00:48<00:37,  1.18s/it]"
     ]
    },
    {
     "name": "stdout",
     "output_type": "stream",
     "text": [
      "ONEUSDT 459\n",
      "WANUSDT 111\n"
     ]
    },
    {
     "name": "stderr",
     "output_type": "stream",
     "text": [
      "\r",
      " 58%|█████▊    | 42/73 [00:48<00:36,  1.16s/it]"
     ]
    },
    {
     "name": "stdout",
     "output_type": "stream",
     "text": [
      "MITHUSDT 629\n"
     ]
    },
    {
     "name": "stderr",
     "output_type": "stream",
     "text": [
      "\r",
      " 59%|█████▉    | 43/73 [00:50<00:35,  1.17s/it]"
     ]
    },
    {
     "name": "stdout",
     "output_type": "stream",
     "text": [
      "ZILUSDT 865\n"
     ]
    },
    {
     "name": "stderr",
     "output_type": "stream",
     "text": [
      "\r",
      " 60%|██████    | 44/73 [00:54<00:35,  1.24s/it]"
     ]
    },
    {
     "name": "stdout",
     "output_type": "stream",
     "text": [
      "ICXUSDT 1869\n"
     ]
    },
    {
     "name": "stderr",
     "output_type": "stream",
     "text": [
      "\r",
      " 62%|██████▏   | 45/73 [00:54<00:34,  1.22s/it]"
     ]
    },
    {
     "name": "stdout",
     "output_type": "stream",
     "text": [
      "FTMUSDT 419\n"
     ]
    },
    {
     "name": "stderr",
     "output_type": "stream",
     "text": [
      "\r",
      " 63%|██████▎   | 46/73 [00:54<00:32,  1.19s/it]"
     ]
    },
    {
     "name": "stdout",
     "output_type": "stream",
     "text": [
      "DUSKUSDT 254\n"
     ]
    },
    {
     "name": "stderr",
     "output_type": "stream",
     "text": [
      "\r",
      " 64%|██████▍   | 47/73 [00:56<00:31,  1.21s/it]"
     ]
    },
    {
     "name": "stdout",
     "output_type": "stream",
     "text": [
      "VETUSDT 1702\n"
     ]
    },
    {
     "name": "stderr",
     "output_type": "stream",
     "text": [
      "\r",
      " 66%|██████▌   | 48/73 [00:57<00:29,  1.19s/it]"
     ]
    },
    {
     "name": "stdout",
     "output_type": "stream",
     "text": [
      "NANOUSDT 694\n"
     ]
    },
    {
     "name": "stderr",
     "output_type": "stream",
     "text": [
      "\r",
      " 67%|██████▋   | 49/73 [00:57<00:28,  1.17s/it]"
     ]
    },
    {
     "name": "stdout",
     "output_type": "stream",
     "text": [
      "DOGEUSDT 321\n"
     ]
    },
    {
     "name": "stderr",
     "output_type": "stream",
     "text": [
      " 70%|██████▉   | 51/73 [00:58<00:25,  1.14s/it]"
     ]
    },
    {
     "name": "stdout",
     "output_type": "stream",
     "text": [
      "OMGUSDT 694\n",
      "DOCKUSDT 111\n"
     ]
    },
    {
     "name": "stderr",
     "output_type": "stream",
     "text": [
      "\r",
      " 71%|███████   | 52/73 [00:58<00:23,  1.13s/it]"
     ]
    },
    {
     "name": "stdout",
     "output_type": "stream",
     "text": [
      "NPXSUSDT 166\n"
     ]
    },
    {
     "name": "stderr",
     "output_type": "stream",
     "text": [
      "\r",
      " 73%|███████▎  | 53/73 [00:58<00:22,  1.11s/it]"
     ]
    },
    {
     "name": "stdout",
     "output_type": "stream",
     "text": [
      "COSUSDT 206\n"
     ]
    },
    {
     "name": "stderr",
     "output_type": "stream",
     "text": [
      "\r",
      " 74%|███████▍  | 54/73 [00:59<00:20,  1.09s/it]"
     ]
    },
    {
     "name": "stdout",
     "output_type": "stream",
     "text": [
      "CHZUSDT 71\n"
     ]
    },
    {
     "name": "stderr",
     "output_type": "stream",
     "text": [
      "\r",
      " 75%|███████▌  | 55/73 [00:59<00:19,  1.08s/it]"
     ]
    },
    {
     "name": "stdout",
     "output_type": "stream",
     "text": [
      "ONGUSDT 877\n"
     ]
    },
    {
     "name": "stderr",
     "output_type": "stream",
     "text": [
      "\r",
      " 77%|███████▋  | 56/73 [00:59<00:18,  1.07s/it]"
     ]
    },
    {
     "name": "stdout",
     "output_type": "stream",
     "text": [
      "ANKRUSDT 249\n",
      "DENTUSDT"
     ]
    },
    {
     "name": "stderr",
     "output_type": "stream",
     "text": [
      " 79%|███████▉  | 58/73 [01:00<00:15,  1.04s/it]"
     ]
    },
    {
     "name": "stdout",
     "output_type": "stream",
     "text": [
      " 111\n",
      "COCOSUSDT 134\n"
     ]
    },
    {
     "name": "stderr",
     "output_type": "stream",
     "text": [
      "\r",
      " 81%|████████  | 59/73 [01:00<00:14,  1.02s/it]"
     ]
    },
    {
     "name": "stdout",
     "output_type": "stream",
     "text": [
      "TFUELUSDT 490\n"
     ]
    },
    {
     "name": "stderr",
     "output_type": "stream",
     "text": [
      "\r",
      " 82%|████████▏ | 60/73 [01:00<00:13,  1.01s/it]"
     ]
    },
    {
     "name": "stdout",
     "output_type": "stream",
     "text": [
      "MTLUSDT 126\n"
     ]
    },
    {
     "name": "stderr",
     "output_type": "stream",
     "text": [
      "\r",
      " 84%|████████▎ | 61/73 [01:01<00:12,  1.00s/it]"
     ]
    },
    {
     "name": "stdout",
     "output_type": "stream",
     "text": [
      "ENJUSDT 634\n"
     ]
    },
    {
     "name": "stderr",
     "output_type": "stream",
     "text": [
      "\r",
      " 85%|████████▍ | 62/73 [01:01<00:10,  1.01it/s]"
     ]
    },
    {
     "name": "stdout",
     "output_type": "stream",
     "text": [
      "THETAUSDT 666\n"
     ]
    },
    {
     "name": "stderr",
     "output_type": "stream",
     "text": [
      "\r",
      " 86%|████████▋ | 63/73 [01:01<00:09,  1.02it/s]"
     ]
    },
    {
     "name": "stdout",
     "output_type": "stream",
     "text": [
      "TOMOUSDT 121\n"
     ]
    },
    {
     "name": "stderr",
     "output_type": "stream",
     "text": [
      "\r",
      " 88%|████████▊ | 64/73 [01:03<00:08,  1.00it/s]"
     ]
    },
    {
     "name": "stdout",
     "output_type": "stream",
     "text": [
      "NULSUSDT 1710\n"
     ]
    },
    {
     "name": "stderr",
     "output_type": "stream",
     "text": [
      "\r",
      " 89%|████████▉ | 65/73 [01:04<00:07,  1.01it/s]"
     ]
    },
    {
     "name": "stdout",
     "output_type": "stream",
     "text": [
      "FUNUSDT 111\n"
     ]
    },
    {
     "name": "stderr",
     "output_type": "stream",
     "text": [
      "\r",
      " 90%|█████████ | 66/73 [01:05<00:06,  1.01it/s]"
     ]
    },
    {
     "name": "stdout",
     "output_type": "stream",
     "text": [
      "USDSUSDT 885\n"
     ]
    },
    {
     "name": "stderr",
     "output_type": "stream",
     "text": [
      "\r",
      " 92%|█████████▏| 67/73 [01:05<00:05,  1.02it/s]"
     ]
    },
    {
     "name": "stdout",
     "output_type": "stream",
     "text": [
      "GTOUSDT 338\n"
     ]
    },
    {
     "name": "stderr",
     "output_type": "stream",
     "text": [
      "\r",
      " 93%|█████████▎| 68/73 [01:06<00:04,  1.03it/s]"
     ]
    },
    {
     "name": "stdout",
     "output_type": "stream",
     "text": [
      "CVCUSDT 111\n"
     ]
    },
    {
     "name": "stderr",
     "output_type": "stream",
     "text": [
      "\r",
      " 95%|█████████▍| 69/73 [01:06<00:03,  1.04it/s]"
     ]
    },
    {
     "name": "stdout",
     "output_type": "stream",
     "text": [
      "MFTUSDT 111\n"
     ]
    },
    {
     "name": "stderr",
     "output_type": "stream",
     "text": [
      "\r",
      " 96%|█████████▌| 70/73 [01:06<00:02,  1.05it/s]"
     ]
    },
    {
     "name": "stdout",
     "output_type": "stream",
     "text": [
      "STORMUSDT 111\n"
     ]
    },
    {
     "name": "stderr",
     "output_type": "stream",
     "text": [
      "\r",
      " 97%|█████████▋| 71/73 [01:06<00:01,  1.06it/s]"
     ]
    },
    {
     "name": "stdout",
     "output_type": "stream",
     "text": [
      "KEYUSDT 111\n"
     ]
    },
    {
     "name": "stderr",
     "output_type": "stream",
     "text": [
      "100%|██████████| 73/73 [01:07<00:00,  1.08it/s]"
     ]
    },
    {
     "name": "stdout",
     "output_type": "stream",
     "text": [
      "USDSBUSDT 366\n",
      "XTZUSDT 366\n"
     ]
    },
    {
     "name": "stderr",
     "output_type": "stream",
     "text": [
      "\n"
     ]
    }
   ],
   "source": [
    "data = {}\n",
    "datalen = 600\n",
    "from tqdm import tqdm\n",
    "data['OpenPrice'], data['ClosePrice'], data['HighestPrice'], data['LowestPrice'], data['Volume'], data['dates'], data['TradeStatus'] = {}, {}, {}, {}, {}, {}, {}\n",
    "for i in tqdm(product_list):\n",
    "    try:\n",
    "        klines = client.get_historical_klines(i, Client.KLINE_INTERVAL_6HOUR, \"1 Jan, 2018\")\n",
    "    except:\n",
    "        pass\n",
    "    klines_df = load_history_kline(klines)\n",
    "    print(i, klines_df.shape[0])\n",
    "    if klines_df.shape[0] > datalen:\n",
    "        data['OpenPrice'][i] = klines_df['Open'].values[-datalen:]\n",
    "        data['ClosePrice'][i] = klines_df['Close'].values[-datalen:]\n",
    "        data['HighestPrice'][i] = klines_df['High'].values[-datalen:]\n",
    "        data['LowestPrice'][i] = klines_df['Low'].values[-datalen:]\n",
    "        data['Volume'][i] = klines_df['Volume'].values[-datalen:]\n",
    "        data['dates'][i] = klines_df['Open time'].values[-datalen:]\n",
    "        data['TradeStatus'][i] = klines_df['Volume'].values[-datalen:]>0"
   ]
  },
  {
   "cell_type": "code",
   "execution_count": 36,
   "metadata": {
    "scrolled": false
   },
   "outputs": [
    {
     "name": "stdout",
     "output_type": "stream",
     "text": [
      "/Users/Hans/Desktop/BinanceData/OpenPrice.npy (41, 600)\n",
      "/Users/Hans/Desktop/BinanceData/ClosePrice.npy (41, 600)\n",
      "/Users/Hans/Desktop/BinanceData/HighestPrice.npy (41, 600)\n",
      "/Users/Hans/Desktop/BinanceData/LowestPrice.npy (41, 600)\n",
      "/Users/Hans/Desktop/BinanceData/Volume.npy (41, 600)\n",
      "[['2019-04-26 08:00:00' '2019-04-26 14:00:00' '2019-04-26 20:00:00' ...\n",
      "  '2019-09-22 20:00:00' '2019-09-23 02:00:00' '2019-09-23 08:00:00']\n",
      " ['2019-04-26 08:00:00' '2019-04-26 14:00:00' '2019-04-26 20:00:00' ...\n",
      "  '2019-09-22 20:00:00' '2019-09-23 02:00:00' '2019-09-23 08:00:00']\n",
      " ['2019-04-26 08:00:00' '2019-04-26 14:00:00' '2019-04-26 20:00:00' ...\n",
      "  '2019-09-22 20:00:00' '2019-09-23 02:00:00' '2019-09-23 08:00:00']\n",
      " ...\n",
      " ['2019-04-26 08:00:00' '2019-04-26 14:00:00' '2019-04-26 20:00:00' ...\n",
      "  '2019-09-22 20:00:00' '2019-09-23 02:00:00' '2019-09-23 08:00:00']\n",
      " ['2019-04-26 08:00:00' '2019-04-26 14:00:00' '2019-04-26 20:00:00' ...\n",
      "  '2019-09-22 20:00:00' '2019-09-23 02:00:00' '2019-09-23 08:00:00']\n",
      " ['2019-04-26 08:00:00' '2019-04-26 14:00:00' '2019-04-26 20:00:00' ...\n",
      "  '2019-09-22 20:00:00' '2019-09-23 02:00:00' '2019-09-23 08:00:00']]\n",
      "/Users/Hans/Desktop/BinanceData/dates.npy (600,)\n",
      "/Users/Hans/Desktop/BinanceData/TradeStatus.npy (41, 600)\n",
      "/Users/Hans/Desktop/BinanceData/ticker_names.npy (41,)\n"
     ]
    }
   ],
   "source": [
    "store_data(data, path='/Users/Hans/Desktop/BinanceData')"
   ]
  },
  {
   "cell_type": "code",
   "execution_count": 180,
   "metadata": {},
   "outputs": [
    {
     "data": {
      "text/plain": [
       "array(['2017-12-31 19:00:00', '2018-01-01 19:00:00',\n",
       "       '2018-01-02 19:00:00', '2018-01-03 19:00:00',\n",
       "       '2018-01-04 19:00:00', '2018-01-05 19:00:00',\n",
       "       '2018-01-06 19:00:00', '2018-01-07 19:00:00',\n",
       "       '2018-01-08 19:00:00', '2018-01-09 19:00:00',\n",
       "       '2018-01-10 19:00:00', '2018-01-11 19:00:00',\n",
       "       '2018-01-12 19:00:00', '2018-01-13 19:00:00',\n",
       "       '2018-01-14 19:00:00', '2018-01-15 19:00:00',\n",
       "       '2018-01-16 19:00:00', '2018-01-17 19:00:00',\n",
       "       '2018-01-18 19:00:00', '2018-01-19 19:00:00',\n",
       "       '2018-01-20 19:00:00', '2018-01-21 19:00:00',\n",
       "       '2018-01-22 19:00:00', '2018-01-23 19:00:00',\n",
       "       '2018-01-24 19:00:00', '2018-01-25 19:00:00',\n",
       "       '2018-01-26 19:00:00', '2018-01-27 19:00:00',\n",
       "       '2018-01-28 19:00:00', '2018-01-29 19:00:00',\n",
       "       '2018-01-30 19:00:00', '2018-01-31 19:00:00',\n",
       "       '2018-02-01 19:00:00', '2018-02-02 19:00:00',\n",
       "       '2018-02-03 19:00:00', '2018-02-04 19:00:00',\n",
       "       '2018-02-05 19:00:00', '2018-02-06 19:00:00',\n",
       "       '2018-02-07 19:00:00', '2018-02-08 19:00:00',\n",
       "       '2018-02-09 19:00:00', '2018-02-10 19:00:00',\n",
       "       '2018-02-11 19:00:00', '2018-02-12 19:00:00',\n",
       "       '2018-02-13 19:00:00', '2018-02-14 19:00:00',\n",
       "       '2018-02-15 19:00:00', '2018-02-16 19:00:00',\n",
       "       '2018-02-17 19:00:00', '2018-02-18 19:00:00',\n",
       "       '2018-02-19 19:00:00', '2018-02-20 19:00:00',\n",
       "       '2018-02-21 19:00:00', '2018-02-22 19:00:00',\n",
       "       '2018-02-23 19:00:00', '2018-02-24 19:00:00',\n",
       "       '2018-02-25 19:00:00', '2018-02-26 19:00:00',\n",
       "       '2018-02-27 19:00:00', '2018-02-28 19:00:00',\n",
       "       '2018-03-01 19:00:00', '2018-03-02 19:00:00',\n",
       "       '2018-03-03 19:00:00', '2018-03-04 19:00:00',\n",
       "       '2018-03-05 19:00:00', '2018-03-06 19:00:00',\n",
       "       '2018-03-07 19:00:00', '2018-03-08 19:00:00',\n",
       "       '2018-03-09 19:00:00', '2018-03-10 19:00:00',\n",
       "       '2018-03-11 20:00:00', '2018-03-12 20:00:00',\n",
       "       '2018-03-13 20:00:00', '2018-03-14 20:00:00',\n",
       "       '2018-03-15 20:00:00', '2018-03-16 20:00:00',\n",
       "       '2018-03-17 20:00:00', '2018-03-18 20:00:00',\n",
       "       '2018-03-19 20:00:00', '2018-03-20 20:00:00',\n",
       "       '2018-03-21 20:00:00', '2018-03-22 20:00:00',\n",
       "       '2018-03-23 20:00:00', '2018-03-24 20:00:00',\n",
       "       '2018-03-25 20:00:00', '2018-03-26 20:00:00',\n",
       "       '2018-03-27 20:00:00', '2018-03-28 20:00:00',\n",
       "       '2018-03-29 20:00:00', '2018-03-30 20:00:00',\n",
       "       '2018-03-31 20:00:00', '2018-04-01 20:00:00',\n",
       "       '2018-04-02 20:00:00', '2018-04-03 20:00:00',\n",
       "       '2018-04-04 20:00:00', '2018-04-05 20:00:00',\n",
       "       '2018-04-06 20:00:00', '2018-04-07 20:00:00',\n",
       "       '2018-04-08 20:00:00', '2018-04-09 20:00:00',\n",
       "       '2018-04-10 20:00:00', '2018-04-11 20:00:00',\n",
       "       '2018-04-12 20:00:00', '2018-04-13 20:00:00',\n",
       "       '2018-04-14 20:00:00', '2018-04-15 20:00:00',\n",
       "       '2018-04-16 20:00:00', '2018-04-17 20:00:00',\n",
       "       '2018-04-18 20:00:00', '2018-04-19 20:00:00',\n",
       "       '2018-04-20 20:00:00', '2018-04-21 20:00:00',\n",
       "       '2018-04-22 20:00:00', '2018-04-23 20:00:00',\n",
       "       '2018-04-24 20:00:00', '2018-04-25 20:00:00',\n",
       "       '2018-04-26 20:00:00', '2018-04-27 20:00:00',\n",
       "       '2018-04-28 20:00:00', '2018-04-29 20:00:00',\n",
       "       '2018-04-30 20:00:00', '2018-05-01 20:00:00',\n",
       "       '2018-05-02 20:00:00', '2018-05-03 20:00:00',\n",
       "       '2018-05-04 20:00:00', '2018-05-05 20:00:00',\n",
       "       '2018-05-06 20:00:00', '2018-05-07 20:00:00',\n",
       "       '2018-05-08 20:00:00', '2018-05-09 20:00:00',\n",
       "       '2018-05-10 20:00:00', '2018-05-11 20:00:00',\n",
       "       '2018-05-12 20:00:00', '2018-05-13 20:00:00',\n",
       "       '2018-05-14 20:00:00', '2018-05-15 20:00:00',\n",
       "       '2018-05-16 20:00:00', '2018-05-17 20:00:00',\n",
       "       '2018-05-18 20:00:00', '2018-05-19 20:00:00',\n",
       "       '2018-05-20 20:00:00', '2018-05-21 20:00:00',\n",
       "       '2018-05-22 20:00:00', '2018-05-23 20:00:00',\n",
       "       '2018-05-24 20:00:00', '2018-05-25 20:00:00',\n",
       "       '2018-05-26 20:00:00', '2018-05-27 20:00:00',\n",
       "       '2018-05-28 20:00:00', '2018-05-29 20:00:00',\n",
       "       '2018-05-30 20:00:00', '2018-05-31 20:00:00',\n",
       "       '2018-06-01 20:00:00', '2018-06-02 20:00:00',\n",
       "       '2018-06-03 20:00:00', '2018-06-04 20:00:00',\n",
       "       '2018-06-05 20:00:00', '2018-06-06 20:00:00',\n",
       "       '2018-06-07 20:00:00', '2018-06-08 20:00:00',\n",
       "       '2018-06-09 20:00:00', '2018-06-10 20:00:00',\n",
       "       '2018-06-11 20:00:00', '2018-06-12 20:00:00',\n",
       "       '2018-06-13 20:00:00', '2018-06-14 20:00:00',\n",
       "       '2018-06-15 20:00:00', '2018-06-16 20:00:00',\n",
       "       '2018-06-17 20:00:00', '2018-06-18 20:00:00',\n",
       "       '2018-06-19 20:00:00', '2018-06-20 20:00:00',\n",
       "       '2018-06-21 20:00:00', '2018-06-22 20:00:00',\n",
       "       '2018-06-23 20:00:00', '2018-06-24 20:00:00',\n",
       "       '2018-06-25 20:00:00', '2018-06-26 20:00:00',\n",
       "       '2018-06-27 20:00:00', '2018-06-28 20:00:00',\n",
       "       '2018-06-29 20:00:00', '2018-06-30 20:00:00',\n",
       "       '2018-07-01 20:00:00', '2018-07-02 20:00:00',\n",
       "       '2018-07-03 20:00:00', '2018-07-04 20:00:00',\n",
       "       '2018-07-05 20:00:00', '2018-07-06 20:00:00',\n",
       "       '2018-07-07 20:00:00', '2018-07-08 20:00:00',\n",
       "       '2018-07-09 20:00:00', '2018-07-10 20:00:00',\n",
       "       '2018-07-11 20:00:00', '2018-07-12 20:00:00',\n",
       "       '2018-07-13 20:00:00', '2018-07-14 20:00:00',\n",
       "       '2018-07-15 20:00:00', '2018-07-16 20:00:00',\n",
       "       '2018-07-17 20:00:00', '2018-07-18 20:00:00',\n",
       "       '2018-07-19 20:00:00', '2018-07-20 20:00:00',\n",
       "       '2018-07-21 20:00:00', '2018-07-22 20:00:00',\n",
       "       '2018-07-23 20:00:00', '2018-07-24 20:00:00',\n",
       "       '2018-07-25 20:00:00', '2018-07-26 20:00:00',\n",
       "       '2018-07-27 20:00:00', '2018-07-28 20:00:00',\n",
       "       '2018-07-29 20:00:00', '2018-07-30 20:00:00',\n",
       "       '2018-07-31 20:00:00', '2018-08-01 20:00:00',\n",
       "       '2018-08-02 20:00:00', '2018-08-03 20:00:00',\n",
       "       '2018-08-04 20:00:00', '2018-08-05 20:00:00',\n",
       "       '2018-08-06 20:00:00', '2018-08-07 20:00:00',\n",
       "       '2018-08-08 20:00:00', '2018-08-09 20:00:00',\n",
       "       '2018-08-10 20:00:00', '2018-08-11 20:00:00',\n",
       "       '2018-08-12 20:00:00', '2018-08-13 20:00:00',\n",
       "       '2018-08-14 20:00:00', '2018-08-15 20:00:00',\n",
       "       '2018-08-16 20:00:00', '2018-08-17 20:00:00',\n",
       "       '2018-08-18 20:00:00', '2018-08-19 20:00:00',\n",
       "       '2018-08-20 20:00:00', '2018-08-21 20:00:00',\n",
       "       '2018-08-22 20:00:00', '2018-08-23 20:00:00',\n",
       "       '2018-08-24 20:00:00', '2018-08-25 20:00:00',\n",
       "       '2018-08-26 20:00:00', '2018-08-27 20:00:00',\n",
       "       '2018-08-28 20:00:00', '2018-08-29 20:00:00',\n",
       "       '2018-08-30 20:00:00', '2018-08-31 20:00:00',\n",
       "       '2018-09-01 20:00:00', '2018-09-02 20:00:00',\n",
       "       '2018-09-03 20:00:00', '2018-09-04 20:00:00',\n",
       "       '2018-09-05 20:00:00', '2018-09-06 20:00:00',\n",
       "       '2018-09-07 20:00:00', '2018-09-08 20:00:00',\n",
       "       '2018-09-09 20:00:00', '2018-09-10 20:00:00',\n",
       "       '2018-09-11 20:00:00', '2018-09-12 20:00:00',\n",
       "       '2018-09-13 20:00:00', '2018-09-14 20:00:00',\n",
       "       '2018-09-15 20:00:00', '2018-09-16 20:00:00',\n",
       "       '2018-09-17 20:00:00', '2018-09-18 20:00:00',\n",
       "       '2018-09-19 20:00:00', '2018-09-20 20:00:00',\n",
       "       '2018-09-21 20:00:00', '2018-09-22 20:00:00',\n",
       "       '2018-09-23 20:00:00', '2018-09-24 20:00:00',\n",
       "       '2018-09-25 20:00:00', '2018-09-26 20:00:00',\n",
       "       '2018-09-27 20:00:00', '2018-09-28 20:00:00',\n",
       "       '2018-09-29 20:00:00', '2018-09-30 20:00:00',\n",
       "       '2018-10-01 20:00:00', '2018-10-02 20:00:00',\n",
       "       '2018-10-03 20:00:00', '2018-10-04 20:00:00',\n",
       "       '2018-10-05 20:00:00', '2018-10-06 20:00:00',\n",
       "       '2018-10-07 20:00:00', '2018-10-08 20:00:00',\n",
       "       '2018-10-09 20:00:00', '2018-10-10 20:00:00',\n",
       "       '2018-10-11 20:00:00', '2018-10-12 20:00:00',\n",
       "       '2018-10-13 20:00:00', '2018-10-14 20:00:00',\n",
       "       '2018-10-15 20:00:00', '2018-10-16 20:00:00',\n",
       "       '2018-10-17 20:00:00', '2018-10-18 20:00:00',\n",
       "       '2018-10-19 20:00:00', '2018-10-20 20:00:00',\n",
       "       '2018-10-21 20:00:00', '2018-10-22 20:00:00',\n",
       "       '2018-10-23 20:00:00', '2018-10-24 20:00:00',\n",
       "       '2018-10-25 20:00:00', '2018-10-26 20:00:00',\n",
       "       '2018-10-27 20:00:00', '2018-10-28 20:00:00',\n",
       "       '2018-10-29 20:00:00', '2018-10-30 20:00:00',\n",
       "       '2018-10-31 20:00:00', '2018-11-01 20:00:00',\n",
       "       '2018-11-02 20:00:00', '2018-11-03 20:00:00',\n",
       "       '2018-11-04 19:00:00', '2018-11-05 19:00:00',\n",
       "       '2018-11-06 19:00:00', '2018-11-07 19:00:00',\n",
       "       '2018-11-08 19:00:00', '2018-11-09 19:00:00',\n",
       "       '2018-11-10 19:00:00', '2018-11-11 19:00:00',\n",
       "       '2018-11-12 19:00:00', '2018-11-13 19:00:00',\n",
       "       '2018-11-14 19:00:00', '2018-11-15 19:00:00',\n",
       "       '2018-11-16 19:00:00', '2018-11-17 19:00:00',\n",
       "       '2018-11-18 19:00:00', '2018-11-19 19:00:00',\n",
       "       '2018-11-20 19:00:00', '2018-11-21 19:00:00',\n",
       "       '2018-11-22 19:00:00', '2018-11-23 19:00:00',\n",
       "       '2018-11-24 19:00:00', '2018-11-25 19:00:00',\n",
       "       '2018-11-26 19:00:00', '2018-11-27 19:00:00',\n",
       "       '2018-11-28 19:00:00', '2018-11-29 19:00:00',\n",
       "       '2018-11-30 19:00:00', '2018-12-01 19:00:00',\n",
       "       '2018-12-02 19:00:00', '2018-12-03 19:00:00',\n",
       "       '2018-12-04 19:00:00', '2018-12-05 19:00:00',\n",
       "       '2018-12-06 19:00:00', '2018-12-07 19:00:00',\n",
       "       '2018-12-08 19:00:00', '2018-12-09 19:00:00',\n",
       "       '2018-12-10 19:00:00', '2018-12-11 19:00:00',\n",
       "       '2018-12-12 19:00:00', '2018-12-13 19:00:00',\n",
       "       '2018-12-14 19:00:00', '2018-12-15 19:00:00',\n",
       "       '2018-12-16 19:00:00', '2018-12-17 19:00:00',\n",
       "       '2018-12-18 19:00:00', '2018-12-19 19:00:00',\n",
       "       '2018-12-20 19:00:00', '2018-12-21 19:00:00',\n",
       "       '2018-12-22 19:00:00', '2018-12-23 19:00:00',\n",
       "       '2018-12-24 19:00:00', '2018-12-25 19:00:00',\n",
       "       '2018-12-26 19:00:00', '2018-12-27 19:00:00',\n",
       "       '2018-12-28 19:00:00', '2018-12-29 19:00:00',\n",
       "       '2018-12-30 19:00:00', '2018-12-31 19:00:00',\n",
       "       '2019-01-01 19:00:00', '2019-01-02 19:00:00',\n",
       "       '2019-01-03 19:00:00', '2019-01-04 19:00:00',\n",
       "       '2019-01-05 19:00:00', '2019-01-06 19:00:00',\n",
       "       '2019-01-07 19:00:00', '2019-01-08 19:00:00',\n",
       "       '2019-01-09 19:00:00', '2019-01-10 19:00:00',\n",
       "       '2019-01-11 19:00:00', '2019-01-12 19:00:00',\n",
       "       '2019-01-13 19:00:00', '2019-01-14 19:00:00',\n",
       "       '2019-01-15 19:00:00', '2019-01-16 19:00:00',\n",
       "       '2019-01-17 19:00:00', '2019-01-18 19:00:00',\n",
       "       '2019-01-19 19:00:00', '2019-01-20 19:00:00',\n",
       "       '2019-01-21 19:00:00', '2019-01-22 19:00:00',\n",
       "       '2019-01-23 19:00:00', '2019-01-24 19:00:00',\n",
       "       '2019-01-25 19:00:00', '2019-01-26 19:00:00',\n",
       "       '2019-01-27 19:00:00', '2019-01-28 19:00:00',\n",
       "       '2019-01-29 19:00:00', '2019-01-30 19:00:00',\n",
       "       '2019-01-31 19:00:00', '2019-02-01 19:00:00',\n",
       "       '2019-02-02 19:00:00', '2019-02-03 19:00:00',\n",
       "       '2019-02-04 19:00:00', '2019-02-05 19:00:00',\n",
       "       '2019-02-06 19:00:00', '2019-02-07 19:00:00',\n",
       "       '2019-02-08 19:00:00', '2019-02-09 19:00:00',\n",
       "       '2019-02-10 19:00:00', '2019-02-11 19:00:00',\n",
       "       '2019-02-12 19:00:00', '2019-02-13 19:00:00',\n",
       "       '2019-02-14 19:00:00', '2019-02-15 19:00:00',\n",
       "       '2019-02-16 19:00:00', '2019-02-17 19:00:00',\n",
       "       '2019-02-18 19:00:00', '2019-02-19 19:00:00',\n",
       "       '2019-02-20 19:00:00', '2019-02-21 19:00:00',\n",
       "       '2019-02-22 19:00:00', '2019-02-23 19:00:00',\n",
       "       '2019-02-24 19:00:00', '2019-02-25 19:00:00',\n",
       "       '2019-02-26 19:00:00', '2019-02-27 19:00:00',\n",
       "       '2019-02-28 19:00:00', '2019-03-01 19:00:00',\n",
       "       '2019-03-02 19:00:00', '2019-03-03 19:00:00',\n",
       "       '2019-03-04 19:00:00', '2019-03-05 19:00:00',\n",
       "       '2019-03-06 19:00:00', '2019-03-07 19:00:00',\n",
       "       '2019-03-08 19:00:00', '2019-03-09 19:00:00',\n",
       "       '2019-03-10 20:00:00', '2019-03-11 20:00:00',\n",
       "       '2019-03-12 20:00:00', '2019-03-13 20:00:00',\n",
       "       '2019-03-14 20:00:00', '2019-03-15 20:00:00',\n",
       "       '2019-03-16 20:00:00', '2019-03-17 20:00:00',\n",
       "       '2019-03-18 20:00:00', '2019-03-19 20:00:00',\n",
       "       '2019-03-20 20:00:00', '2019-03-21 20:00:00',\n",
       "       '2019-03-22 20:00:00', '2019-03-23 20:00:00',\n",
       "       '2019-03-24 20:00:00', '2019-03-25 20:00:00',\n",
       "       '2019-03-26 20:00:00', '2019-03-27 20:00:00',\n",
       "       '2019-03-28 20:00:00', '2019-03-29 20:00:00',\n",
       "       '2019-03-30 20:00:00', '2019-03-31 20:00:00',\n",
       "       '2019-04-01 20:00:00', '2019-04-02 20:00:00',\n",
       "       '2019-04-03 20:00:00', '2019-04-04 20:00:00',\n",
       "       '2019-04-05 20:00:00', '2019-04-06 20:00:00',\n",
       "       '2019-04-07 20:00:00', '2019-04-08 20:00:00',\n",
       "       '2019-04-09 20:00:00', '2019-04-10 20:00:00',\n",
       "       '2019-04-11 20:00:00', '2019-04-12 20:00:00',\n",
       "       '2019-04-13 20:00:00', '2019-04-14 20:00:00',\n",
       "       '2019-04-15 20:00:00', '2019-04-16 20:00:00',\n",
       "       '2019-04-17 20:00:00', '2019-04-18 20:00:00',\n",
       "       '2019-04-19 20:00:00', '2019-04-20 20:00:00',\n",
       "       '2019-04-21 20:00:00', '2019-04-22 20:00:00',\n",
       "       '2019-04-23 20:00:00', '2019-04-24 20:00:00',\n",
       "       '2019-04-25 20:00:00', '2019-04-26 20:00:00',\n",
       "       '2019-04-27 20:00:00', '2019-04-28 20:00:00',\n",
       "       '2019-04-29 20:00:00', '2019-04-30 20:00:00',\n",
       "       '2019-05-01 20:00:00', '2019-05-02 20:00:00',\n",
       "       '2019-05-03 20:00:00', '2019-05-04 20:00:00',\n",
       "       '2019-05-05 20:00:00', '2019-05-06 20:00:00',\n",
       "       '2019-05-07 20:00:00', '2019-05-08 20:00:00',\n",
       "       '2019-05-09 20:00:00', '2019-05-10 20:00:00',\n",
       "       '2019-05-11 20:00:00', '2019-05-12 20:00:00',\n",
       "       '2019-05-13 20:00:00', '2019-05-14 20:00:00',\n",
       "       '2019-05-15 20:00:00', '2019-05-16 20:00:00',\n",
       "       '2019-05-17 20:00:00', '2019-05-18 20:00:00',\n",
       "       '2019-05-19 20:00:00', '2019-05-20 20:00:00',\n",
       "       '2019-05-21 20:00:00', '2019-05-22 20:00:00',\n",
       "       '2019-05-23 20:00:00', '2019-05-24 20:00:00',\n",
       "       '2019-05-25 20:00:00', '2019-05-26 20:00:00',\n",
       "       '2019-05-27 20:00:00', '2019-05-28 20:00:00',\n",
       "       '2019-05-29 20:00:00', '2019-05-30 20:00:00',\n",
       "       '2019-05-31 20:00:00', '2019-06-01 20:00:00',\n",
       "       '2019-06-02 20:00:00', '2019-06-03 20:00:00',\n",
       "       '2019-06-04 20:00:00', '2019-06-05 20:00:00',\n",
       "       '2019-06-06 20:00:00', '2019-06-07 20:00:00',\n",
       "       '2019-06-08 20:00:00', '2019-06-09 20:00:00',\n",
       "       '2019-06-10 20:00:00', '2019-06-11 20:00:00',\n",
       "       '2019-06-12 20:00:00', '2019-06-13 20:00:00',\n",
       "       '2019-06-14 20:00:00', '2019-06-15 20:00:00',\n",
       "       '2019-06-16 20:00:00', '2019-06-17 20:00:00',\n",
       "       '2019-06-18 20:00:00', '2019-06-19 20:00:00',\n",
       "       '2019-06-20 20:00:00', '2019-06-21 20:00:00',\n",
       "       '2019-06-22 20:00:00', '2019-06-23 20:00:00',\n",
       "       '2019-06-24 20:00:00', '2019-06-25 20:00:00',\n",
       "       '2019-06-26 20:00:00', '2019-06-27 20:00:00',\n",
       "       '2019-06-28 20:00:00', '2019-06-29 20:00:00',\n",
       "       '2019-06-30 20:00:00', '2019-07-01 20:00:00',\n",
       "       '2019-07-02 20:00:00', '2019-07-03 20:00:00',\n",
       "       '2019-07-04 20:00:00', '2019-07-05 20:00:00',\n",
       "       '2019-07-06 20:00:00', '2019-07-07 20:00:00',\n",
       "       '2019-07-08 20:00:00', '2019-07-09 20:00:00',\n",
       "       '2019-07-10 20:00:00', '2019-07-11 20:00:00',\n",
       "       '2019-07-12 20:00:00', '2019-07-13 20:00:00',\n",
       "       '2019-07-14 20:00:00', '2019-07-15 20:00:00',\n",
       "       '2019-07-16 20:00:00', '2019-07-17 20:00:00',\n",
       "       '2019-07-18 20:00:00', '2019-07-19 20:00:00',\n",
       "       '2019-07-20 20:00:00', '2019-07-21 20:00:00',\n",
       "       '2019-07-22 20:00:00', '2019-07-23 20:00:00',\n",
       "       '2019-07-24 20:00:00', '2019-07-25 20:00:00',\n",
       "       '2019-07-26 20:00:00', '2019-07-27 20:00:00',\n",
       "       '2019-07-28 20:00:00', '2019-07-29 20:00:00',\n",
       "       '2019-07-30 20:00:00', '2019-07-31 20:00:00',\n",
       "       '2019-08-01 20:00:00', '2019-08-02 20:00:00',\n",
       "       '2019-08-03 20:00:00', '2019-08-04 20:00:00',\n",
       "       '2019-08-05 20:00:00', '2019-08-06 20:00:00',\n",
       "       '2019-08-07 20:00:00', '2019-08-08 20:00:00',\n",
       "       '2019-08-09 20:00:00', '2019-08-10 20:00:00',\n",
       "       '2019-08-11 20:00:00', '2019-08-12 20:00:00',\n",
       "       '2019-08-13 20:00:00', '2019-08-14 20:00:00',\n",
       "       '2019-08-15 20:00:00', '2019-08-16 20:00:00',\n",
       "       '2019-08-17 20:00:00', '2019-08-18 20:00:00',\n",
       "       '2019-08-19 20:00:00', '2019-08-20 20:00:00',\n",
       "       '2019-08-21 20:00:00', '2019-08-22 20:00:00',\n",
       "       '2019-08-23 20:00:00', '2019-08-24 20:00:00',\n",
       "       '2019-08-25 20:00:00', '2019-08-26 20:00:00',\n",
       "       '2019-08-27 20:00:00', '2019-08-28 20:00:00',\n",
       "       '2019-08-29 20:00:00', '2019-08-30 20:00:00',\n",
       "       '2019-08-31 20:00:00', '2019-09-01 20:00:00',\n",
       "       '2019-09-02 20:00:00', '2019-09-03 20:00:00',\n",
       "       '2019-09-04 20:00:00', '2019-09-05 20:00:00',\n",
       "       '2019-09-06 20:00:00', '2019-09-07 20:00:00',\n",
       "       '2019-09-08 20:00:00', '2019-09-09 20:00:00',\n",
       "       '2019-09-10 20:00:00', '2019-09-11 20:00:00',\n",
       "       '2019-09-12 20:00:00', '2019-09-13 20:00:00',\n",
       "       '2019-09-14 20:00:00', '2019-09-15 20:00:00',\n",
       "       '2019-09-16 20:00:00', '2019-09-17 20:00:00',\n",
       "       '2019-09-18 20:00:00', '2019-09-19 20:00:00',\n",
       "       '2019-09-20 20:00:00', '2019-09-21 20:00:00'], dtype='<U19')"
      ]
     },
     "execution_count": 180,
     "metadata": {},
     "output_type": "execute_result"
    }
   ],
   "source": [
    "pd.DataFrame(data['dates']).T.values[0].astype('str')"
   ]
  },
  {
   "cell_type": "code",
   "execution_count": 55,
   "metadata": {
    "scrolled": true
   },
   "outputs": [
    {
     "name": "stderr",
     "output_type": "stream",
     "text": [
      "/Users/Hans/anaconda3/lib/python3.6/site-packages/ipykernel_launcher.py:3: UserWarning: Pandas doesn't allow columns to be created via a new attribute name - see https://pandas.pydata.org/pandas-docs/stable/indexing.html#attribute-access\n",
      "  This is separate from the ipykernel package so we can avoid doing imports until\n"
     ]
    }
   ],
   "source": []
  },
  {
   "cell_type": "code",
   "execution_count": 64,
   "metadata": {
    "collapsed": true
   },
   "outputs": [],
   "source": [
    "df.sort_values?"
   ]
  },
  {
   "cell_type": "code",
   "execution_count": null,
   "metadata": {
    "collapsed": true
   },
   "outputs": [],
   "source": []
  }
 ],
 "metadata": {
  "kernelspec": {
   "display_name": "Python 3",
   "language": "python",
   "name": "python3"
  },
  "language_info": {
   "codemirror_mode": {
    "name": "ipython",
    "version": 3
   },
   "file_extension": ".py",
   "mimetype": "text/x-python",
   "name": "python",
   "nbconvert_exporter": "python",
   "pygments_lexer": "ipython3",
   "version": "3.6.3"
  }
 },
 "nbformat": 4,
 "nbformat_minor": 2
}
