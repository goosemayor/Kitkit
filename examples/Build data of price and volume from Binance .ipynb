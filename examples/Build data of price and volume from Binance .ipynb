{
 "cells": [
  {
   "cell_type": "markdown",
   "metadata": {},
   "source": [
    "# Build data of price and volume from Binance"
   ]
  },
  {
   "cell_type": "markdown",
   "metadata": {},
   "source": [
    "Quick blowse [binance python-api docs](https://python-binance.readthedocs.io/en/latest/index.html) and get a rough profile of what we can do. Although it is an unofficial Python wrapper, but it is easy to use for trials. "
   ]
  },
  {
   "cell_type": "markdown",
   "metadata": {},
   "source": [
    "## Install Binance API\n",
    "First, let's install Binance python module use pip command."
   ]
  },
  {
   "cell_type": "code",
   "execution_count": 2,
   "metadata": {},
   "outputs": [
    {
     "name": "stdout",
     "output_type": "stream",
     "text": [
      "Requirement already satisfied: binance in /Users/Hans/.conda/envs/orange3/lib/python3.7/site-packages (0.3)\n",
      "Note: you may need to restart the kernel to use updated packages.\n"
     ]
    }
   ],
   "source": [
    "pip install binance"
   ]
  },
  {
   "cell_type": "code",
   "execution_count": 2,
   "metadata": {},
   "outputs": [
    {
     "data": {
      "text/plain": [
       "'/Users/Hans/.conda/envs/orange3/lib/python3.7/site-packages/binance.py'"
      ]
     },
     "execution_count": 2,
     "metadata": {},
     "output_type": "execute_result"
    }
   ],
   "source": [
    "import binance\n",
    "binance.__file__"
   ]
  },
  {
   "cell_type": "code",
   "execution_count": 3,
   "metadata": {},
   "outputs": [
    {
     "name": "stdout",
     "output_type": "stream",
     "text": [
      "Requirement already satisfied: requests in /Users/Hans/.conda/envs/orange3/lib/python3.7/site-packages (2.22.0)\n",
      "Requirement already satisfied: urllib3!=1.25.0,!=1.25.1,<1.26,>=1.21.1 in /Users/Hans/.conda/envs/orange3/lib/python3.7/site-packages (from requests) (1.25.6)\n",
      "Requirement already satisfied: chardet<3.1.0,>=3.0.2 in /Users/Hans/.conda/envs/orange3/lib/python3.7/site-packages (from requests) (3.0.4)\n",
      "Requirement already satisfied: certifi>=2017.4.17 in /Users/Hans/.conda/envs/orange3/lib/python3.7/site-packages (from requests) (2019.9.11)\n",
      "Requirement already satisfied: idna<2.9,>=2.5 in /Users/Hans/.conda/envs/orange3/lib/python3.7/site-packages (from requests) (2.8)\n",
      "Note: you may need to restart the kernel to use updated packages.\n"
     ]
    }
   ],
   "source": [
    "pip install requests"
   ]
  },
  {
   "cell_type": "markdown",
   "metadata": {},
   "source": [
    "## Apply key and secret from Binance\n",
    "Secord, apply an api key and secret from your Binance account."
   ]
  },
  {
   "cell_type": "code",
   "execution_count": 1,
   "metadata": {},
   "outputs": [
    {
     "ename": "ModuleNotFoundError",
     "evalue": "No module named 'binance.client'; 'binance' is not a package",
     "output_type": "error",
     "traceback": [
      "\u001b[0;31m---------------------------------------------------------------------------\u001b[0m",
      "\u001b[0;31mModuleNotFoundError\u001b[0m                       Traceback (most recent call last)",
      "\u001b[0;32m<ipython-input-1-dc32f6b05c70>\u001b[0m in \u001b[0;36m<module>\u001b[0;34m\u001b[0m\n\u001b[1;32m      1\u001b[0m \u001b[0;32mimport\u001b[0m \u001b[0mbinance\u001b[0m\u001b[0;34m\u001b[0m\u001b[0;34m\u001b[0m\u001b[0m\n\u001b[0;32m----> 2\u001b[0;31m \u001b[0;32mimport\u001b[0m \u001b[0mbinance\u001b[0m\u001b[0;34m.\u001b[0m\u001b[0mclient\u001b[0m \u001b[0;32mas\u001b[0m \u001b[0mclinet\u001b[0m\u001b[0;34m\u001b[0m\u001b[0;34m\u001b[0m\u001b[0m\n\u001b[0m\u001b[1;32m      3\u001b[0m \u001b[0mapi_key\u001b[0m \u001b[0;34m=\u001b[0m \u001b[0;34m'7RS8At6SToQzDYTJpMT3yPOalVPkMZzeX6MnT2gmD6YzH0gjNHPLcvgmHXaHu00G'\u001b[0m\u001b[0;34m\u001b[0m\u001b[0;34m\u001b[0m\u001b[0m\n\u001b[1;32m      4\u001b[0m \u001b[0mapi_secret\u001b[0m \u001b[0;34m=\u001b[0m \u001b[0;34m'bJIz0uS5GwdiqrvijKfpsBGaR7NJJ8MpiRPNzPmrFB9W3E6arL4BqxLkLstYBPaa'\u001b[0m\u001b[0;34m\u001b[0m\u001b[0;34m\u001b[0m\u001b[0m\n\u001b[1;32m      5\u001b[0m \u001b[0mclient\u001b[0m \u001b[0;34m=\u001b[0m \u001b[0mclient\u001b[0m\u001b[0;34m.\u001b[0m\u001b[0mClient\u001b[0m\u001b[0;34m(\u001b[0m\u001b[0mapi_key\u001b[0m\u001b[0;34m,\u001b[0m \u001b[0mapi_secret\u001b[0m\u001b[0;34m,\u001b[0m \u001b[0;34m{\u001b[0m\u001b[0;34m'timeout'\u001b[0m\u001b[0;34m:\u001b[0m\u001b[0;36m20\u001b[0m\u001b[0;34m}\u001b[0m\u001b[0;34m)\u001b[0m\u001b[0;34m\u001b[0m\u001b[0;34m\u001b[0m\u001b[0m\n",
      "\u001b[0;31mModuleNotFoundError\u001b[0m: No module named 'binance.client'; 'binance' is not a package"
     ]
    }
   ],
   "source": [
    "from binance.client import Client\n",
    "api_key = '7RS8At6SToQzDYTJpMT3yPOalVPkMZzeX6MnT2gmD6YzH0gjNHPLcvgmHXaHu00G'\n",
    "api_secret = 'bJIz0uS5GwdiqrvijKfpsBGaR7NJJ8MpiRPNzPmrFB9W3E6arL4BqxLkLstYBPaa'\n",
    "client = Client(api_key, api_secret, {'timeout':20})"
   ]
  },
  {
   "cell_type": "markdown",
   "metadata": {},
   "source": [
    "## Request instruments and exchange info you need"
   ]
  },
  {
   "cell_type": "code",
   "execution_count": null,
   "metadata": {
    "collapsed": true,
    "jupyter": {
     "outputs_hidden": true
    }
   },
   "outputs": [],
   "source": [
    "from binance.websockets import BinanceSocketManager\n",
    "from binance.enums import *\n",
    "import time \n",
    "import numpy as np\n",
    "import pandas as pd\n",
    "import sys, os\n",
    "\n",
    "def product(client, num=50, market='USDT'):\n",
    "    products = client.get_products()\n",
    "    df = pd.DataFrame(products['data'])\n",
    "    df = df[df['market'] == market]\n",
    "    df['symbol'] = df['baseAsset']+df['quoteAsset']\n",
    "    product_list = df.sort_values(\"tradedMoney\", ascending=False).symbol.values[:num]\n",
    "    return product_list\n",
    "\n",
    "product_list = product(client, 200, 'USDT')\n",
    "product_list"
   ]
  },
  {
   "cell_type": "markdown",
   "metadata": {},
   "source": [
    "## Load history price and volume data\n",
    "Let's make some utility functions for dates format convert. "
   ]
  },
  {
   "cell_type": "code",
   "execution_count": null,
   "metadata": {
    "collapsed": true,
    "jupyter": {
     "outputs_hidden": true
    }
   },
   "outputs": [],
   "source": [
    "def UTC_convert(x):\n",
    "    if isinstance(x, np.ndarray):\n",
    "        return np.array([time.strftime('%Y-%m-%d %H:%M:%S', time.localtime(i)) for i in x/1000.])\n",
    "    elif isinstance(x, pd.Series):\n",
    "        return np.array([time.strftime('%Y-%m-%d %H:%M:%S', time.localtime(i)) for i in x.values/1000.])\n",
    "    elif (isinstance(x, int)) and (len(str(x)) ==13):\n",
    "        return time.strftime('%Y-%m-%d %H:%M:%S', time.localtime(x/1000.))\n",
    "    else:\n",
    "        raise Exception('error %s' %type(x))\n",
    "        \n",
    "def load_history_kline(history_kline):\n",
    "    label = [\"Open time\", \"Open\", \"High\", \"Low\", \"Close\", \"Volume\", \"Close time\", \"Quote asset volume\", \"Number of trades\", \"Taker buy base asset volume\", \"Taker buy quote asset volume\", \"Can be ignored\"]\n",
    "    kline_df = pd.DataFrame(history_kline, columns=label).astype(np.float)\n",
    "    kline_df['Open time'] = UTC_convert(kline_df['Open time'])\n",
    "    kline_df.index = kline_df['Open time'].values\n",
    "    kline_df['Close time'] = UTC_convert(kline_df['Close time'])\n",
    "    return kline_df\n",
    "\n",
    "data = {}\n",
    "datalen = 600\n",
    "from tqdm import tqdm\n",
    "data['OpenPrice'], data['ClosePrice'], data['HighestPrice'], data['LowestPrice'], data['Volume'], data['dates'], data['TradeStatus'] = {}, {}, {}, {}, {}, {}, {}\n",
    "for i in tqdm(product_list):\n",
    "    try:\n",
    "        klines = client.get_historical_klines(i, Client.KLINE_INTERVAL_1DAY, \"1 Jan, 2018\")\n",
    "    except:\n",
    "        pass\n",
    "    klines_df = load_history_kline(klines)\n",
    "    print(i, klines_df.shape[0])\n",
    "    if klines_df.shape[0] > datalen:\n",
    "        data['OpenPrice'][i] = klines_df['Open'].values[-datalen:]\n",
    "        data['ClosePrice'][i] = klines_df['Close'].values[-datalen:]\n",
    "        data['HighestPrice'][i] = klines_df['High'].values[-datalen:]\n",
    "        data['LowestPrice'][i] = klines_df['Low'].values[-datalen:]\n",
    "        data['Volume'][i] = klines_df['Volume'].values[-datalen:]\n",
    "        data['dates'][i] = klines_df['Open time'].values[-datalen:]\n",
    "        data['TradeStatus'][i] = klines_df['Volume'].values[-datalen:]>0"
   ]
  },
  {
   "cell_type": "markdown",
   "metadata": {},
   "source": [
    "## Store array-like data in local path"
   ]
  },
  {
   "cell_type": "code",
   "execution_count": null,
   "metadata": {
    "collapsed": true,
    "jupyter": {
     "outputs_hidden": true
    }
   },
   "outputs": [],
   "source": [
    "from tqdm import tqdm\n",
    "def store_data(data, path):\n",
    "    for i in data.keys():\n",
    "        file = os.path.join(path, i+'.npy')\n",
    "        arr = pd.DataFrame(data[i]).T.values\n",
    "        if i == 'dates':\n",
    "            print(arr)\n",
    "            arr = arr[0].astype('str')\n",
    "        print(file, arr.shape)\n",
    "        np.save(file, arr)\n",
    "    t_path = os.path.join(path, 'ticker_names.npy')\n",
    "    ticker_names = pd.DataFrame(data[i]).columns.values.astype('str')\n",
    "    #print(ticker_names)\n",
    "    np.save(t_path, ticker_names)\n",
    "    print(t_path, ticker_names.shape)\n",
    "    \n",
    "store_data(data, path='/Users/Hans/Desktop/HunterAlpha/KitKitDataSets/BinanceData/1day/')"
   ]
  },
  {
   "cell_type": "code",
   "execution_count": null,
   "metadata": {
    "collapsed": true,
    "jupyter": {
     "outputs_hidden": true
    }
   },
   "outputs": [],
   "source": []
  },
  {
   "cell_type": "code",
   "execution_count": null,
   "metadata": {},
   "outputs": [],
   "source": [
    "def amount_convert(amount, precision):  \n",
    "    \"\"\"\n",
    "    amount = 0.000234234\n",
    "    precision = 5\n",
    "    \"\"\"\n",
    "    amt_str = \"{:0.0{}f}\".format(amount, precision)\n",
    "    return amt_str\n",
    "\n"
   ]
  }
 ],
 "metadata": {
  "kernelspec": {
   "display_name": "Python 3",
   "language": "python",
   "name": "python3"
  },
  "language_info": {
   "codemirror_mode": {
    "name": "ipython",
    "version": 3
   },
   "file_extension": ".py",
   "mimetype": "text/x-python",
   "name": "python",
   "nbconvert_exporter": "python",
   "pygments_lexer": "ipython3",
   "version": "3.7.4"
  }
 },
 "nbformat": 4,
 "nbformat_minor": 4
}
